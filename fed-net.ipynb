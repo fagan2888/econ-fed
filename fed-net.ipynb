{
 "cells": [
  {
   "cell_type": "code",
   "execution_count": 1,
   "metadata": {
    "collapsed": true
   },
   "outputs": [],
   "source": [
    "from __future__ import division, print_function, absolute_import\n",
    "\n",
    "import numpy as np\n",
    "import tflearn\n",
    "import tensorflow as tf\n",
    "from datetime import datetime\n",
    "from sklearn.metrics import mean_squared_error\n",
    "import math"
   ]
  },
  {
   "cell_type": "code",
   "execution_count": 2,
   "metadata": {
    "collapsed": false
   },
   "outputs": [],
   "source": [
    "import progressbar"
   ]
  },
  {
   "cell_type": "code",
   "execution_count": 3,
   "metadata": {
    "collapsed": true
   },
   "outputs": [],
   "source": [
    "from combine import X, Y"
   ]
  },
  {
   "cell_type": "code",
   "execution_count": 4,
   "metadata": {
    "collapsed": true
   },
   "outputs": [],
   "source": [
    "Y = np.array(Y).reshape((len(Y),1)) # KEY"
   ]
  },
  {
   "cell_type": "code",
   "execution_count": 5,
   "metadata": {
    "collapsed": true
   },
   "outputs": [],
   "source": [
    "tf.reset_default_graph()"
   ]
  },
  {
   "cell_type": "code",
   "execution_count": 6,
   "metadata": {
    "collapsed": false,
    "scrolled": false
   },
   "outputs": [
    {
     "name": "stdout",
     "output_type": "stream",
     "text": [
      "Training Step: 6999  | total loss: \u001b[1m\u001b[32m5.89213\u001b[0m\u001b[0m | time: 0.121s\n",
      "| AdaGrad | epoch: 1000 | loss: 5.89213 - binary_acc: 0.0088 -- iter: 600/687\n",
      "Training Step: 7000  | total loss: \u001b[1m\u001b[32m5.58785\u001b[0m\u001b[0m | time: 0.140s\n",
      "| AdaGrad | epoch: 1000 | loss: 5.58785 - binary_acc: 0.0079 -- iter: 687/687\n",
      "--\n",
      "INFO:tensorflow:/Users/rodrigo.castellon/Desktop/econ-fed/tmp-7000 is not in all_model_checkpoint_paths. Manually adding it.\n"
     ]
    }
   ],
   "source": [
    "run_identification = 'econ-' + str(datetime.now())[:-7]\n",
    "# Network building\n",
    "net = tflearn.input_data([None, 3]) # input layer which receives any number of input data (evidenced by None), each containing 3 nodes \n",
    "# first fully connected layer containing 10 neurons, a linear activation function (keep whatever you outputted), L2 regularization (prevent overfitting), and weight decay\n",
    "net = tflearn.fully_connected(net, 10, activation='linear',\n",
    "                                 regularizer='L2', weight_decay=0.0005)\n",
    "# last layer which contains only one output neuron with linear activation\n",
    "net = tflearn.fully_connected(net, 1, activation='linear')\n",
    "# regression layer using AdaGrad to optimize, learning rate of 0.01, mean-square loss\n",
    "net = tflearn.regression(net, optimizer=\n",
    "                         tflearn.optimizers.AdaGrad(learning_rate=0.01, initial_accumulator_value=0.01), \n",
    "                         loss='mean_square', learning_rate=0.05)\n",
    "\n",
    "# Training\n",
    "# Deep Neural Network Model created\n",
    "model = tflearn.DNN(net, tensorboard_verbose=3, checkpoint_path='tmp/',\n",
    "                   tensorboard_dir=\"/tmp/tflearn_logs/\")\n",
    "# Fit the model using X and Y as inputs and outputs, 1000 epochs, showing metrics, shuffling data, and with a batch size of 100\n",
    "model.fit(X, Y, n_epoch=1000, show_metric=True,\n",
    "          run_id=run_identification,\n",
    "          shuffle=False,\n",
    "          batch_size=100)"
   ]
  },
  {
   "cell_type": "code",
   "execution_count": 7,
   "metadata": {
    "collapsed": true
   },
   "outputs": [],
   "source": [
    "def gen_y_pred(model, X):\n",
    "    y_pred = np.array(model.predict(X)).squeeze()\n",
    "    return y_pred"
   ]
  },
  {
   "cell_type": "code",
   "execution_count": 8,
   "metadata": {
    "collapsed": true
   },
   "outputs": [],
   "source": [
    "def eval_model(y_pred, y_actual): # Returns: average abs deviation, average deviation, \n",
    "    mean_squared = find_deviation(y_pred, y_actual, method='mse')\n",
    "    \n",
    "    return mean_squared"
   ]
  },
  {
   "cell_type": "code",
   "execution_count": 9,
   "metadata": {
    "collapsed": true
   },
   "outputs": [],
   "source": [
    "def find_deviation(y_pred, y_actual, method):\n",
    "    deviation_sum = 0\n",
    "    if method == 'absolute':\n",
    "        for i in range(len(Y)):\n",
    "            deviation_sum += np.abs(model.predict([X[i]])[0][0] - Y[i][0])\n",
    "    elif method == 'mse':\n",
    "        deviation = math.sqrt(mean_squared_error(y_actual, y_pred))\n",
    "    else:\n",
    "        pass\n",
    "    return deviation"
   ]
  },
  {
   "cell_type": "code",
   "execution_count": 10,
   "metadata": {
    "collapsed": false
   },
   "outputs": [
    {
     "data": {
      "text/plain": [
       "2.4727233889349884"
      ]
     },
     "execution_count": 10,
     "metadata": {},
     "output_type": "execute_result"
    }
   ],
   "source": [
    "eval_model(gen_y_pred(model, X), Y.squeeze())"
   ]
  },
  {
   "cell_type": "code",
   "execution_count": 20,
   "metadata": {
    "collapsed": false
   },
   "outputs": [
    {
     "data": {
      "text/plain": [
       "(687, 1)"
      ]
     },
     "execution_count": 20,
     "metadata": {},
     "output_type": "execute_result"
    }
   ],
   "source": [
    "Y.shape"
   ]
  },
  {
   "cell_type": "code",
   "execution_count": null,
   "metadata": {
    "collapsed": true
   },
   "outputs": [],
   "source": []
  },
  {
   "cell_type": "code",
   "execution_count": null,
   "metadata": {
    "collapsed": true
   },
   "outputs": [],
   "source": []
  }
 ],
 "metadata": {
  "kernelspec": {
   "display_name": "Python 2",
   "language": "python",
   "name": "python2"
  },
  "language_info": {
   "codemirror_mode": {
    "name": "ipython",
    "version": 2
   },
   "file_extension": ".py",
   "mimetype": "text/x-python",
   "name": "python",
   "nbconvert_exporter": "python",
   "pygments_lexer": "ipython2",
   "version": "2.7.13"
  }
 },
 "nbformat": 4,
 "nbformat_minor": 2
}
